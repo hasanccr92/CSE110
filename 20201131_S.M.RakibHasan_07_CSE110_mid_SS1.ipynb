{
 "cells": [
  {
   "cell_type": "markdown",
   "metadata": {
    "colab_type": "text",
    "id": "0ZcT5c9CjT8P"
   },
   "source": [
    "# FALL 2020\n",
    "\n",
    "# CSE110 MID\n",
    "**<font color='red'>[MUST MAINTAIN VARIABLE NAMING CONVENTIONS FOR ALL THE TASKS]</font>**\n",
    "\n",
    "**<font color='red'>[Writing comments(explanatory sentences) in any of the code is completely optional]</font>**"
   ]
  },
  {
   "cell_type": "markdown",
   "metadata": {
    "colab_type": "text",
    "id": "hQCnOmw6iWER"
   },
   "source": [
    "# Task 01\n",
    "Write a python program that asks the user to give scores of 3 sections of the IELTS exam (reading, writing, and speaking). The valid score for each section is from 0(inclusive) to 9(inclusive). Thus the valid range of the IELTS average score is from 0(inclusive) to 9(inclusive).\n",
    "\n",
    "Then your program should print the average of the given scores as well as the information according to the provided chart below. \n",
    "\n",
    "|Average score|Information to be printed|\n",
    "|------|------|\n",
    "|Less than 6  |Retake the exam\n",
    "|Greater than 6 and less than 8 |Good user\n",
    "|Equal to 8|Very good user\n",
    "|Above 8|Expert user\n",
    "|For any invalid inputs (out of valid range) |Impossible score!!\n",
    "\n",
    "\n",
    " ==========================================\n",
    "\n",
    "**Sample input 1:**\\\n",
    "8\\\n",
    "7\\\n",
    "6\n",
    "\n",
    "\n",
    "**Sample output 1:**\\\n",
    "Average score is: 7.0\\\n",
    "Good user\n",
    "\n",
    "\n",
    "\n",
    "**Explanation:**\\\n",
    "Here, reading = 8, writing = 7, and speaking = 6.\\\n",
    "Average = (8+7+6)/3 is 7.0 which falls under the “Greater than 6 and less than 8” section, so prints “Good user”.\n",
    "\n",
    "\n",
    " ==========================================\n",
    "\n",
    "**Sample input 2:**\\\n",
    "8\\\n",
    "10\\\n",
    "6\n",
    "\n",
    "\n",
    "**Sample output 2:**\\\n",
    "Impossible score!!\n",
    "\n",
    "**Explanation:**\\\n",
    "Here, reading = 8, writing = 10, and speaking = 6.\\\n",
    "writing = 10 does not fall under the valid range of 0 to 9. Thus it prints “Impossible score!!”\n",
    "\n",
    "\n"
   ]
  },
  {
   "cell_type": "code",
   "execution_count": 13,
   "metadata": {
    "colab": {},
    "colab_type": "code",
    "id": "P0vIwmbeiWEU"
   },
   "outputs": [
    {
     "name": "stdout",
     "output_type": "stream",
     "text": [
      "Reading score:9\n",
      "Writing score:8\n",
      "Speaking score:7\n",
      "Very good user\n"
     ]
    }
   ],
   "source": [
    "#task 1\n",
    "#to do\n",
    "\n",
    "r=int(input(\"Reading score:\"))\n",
    "w=int(input(\"Writing score:\"))\n",
    "s=int(input(\"Speaking score:\"))\n",
    "total=(r+w+s)\n",
    "\n",
    "avg=(total/3)\n",
    "if r>9 or w>9 or s>9 or r<0 or w<0 or s<0:\n",
    "    print(\"Impossible score\")\n",
    "else:\n",
    "    if avg<6:\n",
    "        print(\"Retake the exam\")\n",
    "    elif avg>6 and avg<8:\n",
    "        print(\"Good user\")\n",
    "    elif avg==8:\n",
    "        print(\"Very good user\")\n",
    "    elif avg>8:\n",
    "        print(\"Expert user\")\n",
    "        \n",
    "\n"
   ]
  },
  {
   "cell_type": "markdown",
   "metadata": {
    "colab_type": "text",
    "id": "zUyYKkWViWEd"
   },
   "source": [
    "# Task 02\n",
    "Write a python program that will take a String as input from the user. Then it will print \"Found\", if the input string contains **3 consecutive even numbers**, otherwise print \"Not Found\". The inputs will contain digits (0-9) only.\n",
    "\n",
    "**<font color='red'>[You cannot use any built in function except input(), print(), len(String), ord(String), chr(int).]</font>**\n",
    "\n",
    "\n",
    " ================================\n",
    "\n",
    "**Sample input 1:**\\\n",
    "92514788 \\\n",
    "**Sample output 1:**\\\n",
    "Not Found\\\n",
    "**Explanation:**\\\n",
    "No 3 consecutive even numbers are found. So, the output is \"Not Found\".\n",
    "\n",
    "\n",
    " ================================\n",
    "\n",
    "\n",
    "**Sample input 2:**\\\n",
    "724615  \\\n",
    "**Sample output 2:**\\\n",
    "Found\\\n",
    "**Explanation:**\\\n",
    "Starting from index 1, (2,4, 6) are  3 consecutive even numbers. So, the output is \"Found\".\n",
    "\n",
    "\n",
    " ================================\n",
    "\n",
    "\n",
    "\n",
    "**Sample input 3:**\\\n",
    "5822223   \\\n",
    "**Sample output 3:**\\\n",
    "Found\\\n",
    "**Explanation:**\\\n",
    "Starting from index 2, (2, 2, 2) are  3 consecutive even numbers. So, the output is \"Found\".\n",
    "\n",
    " ================================"
   ]
  },
  {
   "cell_type": "code",
   "execution_count": 16,
   "metadata": {
    "colab": {},
    "colab_type": "code",
    "id": "_oEJ6XwgiWEh"
   },
   "outputs": [
    {
     "name": "stdout",
     "output_type": "stream",
     "text": [
      "122223445\n",
      "Found\n"
     ]
    }
   ],
   "source": [
    "#task 2\n",
    "#to do\n",
    "string = input()\n",
    "count = 0\n",
    "for digits in string:\n",
    "    if int(digits) % 2 == 0:\n",
    "        count += 1\n",
    "        if count == 3:\n",
    "            break\n",
    "    else:\n",
    "        count = 0\n",
    "if count == 3:\n",
    "    print(\"Found\")\n",
    "else:\n",
    "    print(\"Not Found\")\n"
   ]
  },
  {
   "cell_type": "markdown",
   "metadata": {
    "colab_type": "text",
    "id": "CEhXrQIhiWEo"
   },
   "source": [
    "# Task 03\n",
    "\n",
    "Write a python program that takes a string as input from the user which is a combination of alphabets and numbers. Find the alphabets from that input string and store them in a list. Finally, print the list and the character that has the **maximum** ascii value.\n",
    "\n",
    "**<font color='red'>[You are not allowed to use the built-in max() function of Python.]</font>**\n",
    "\n",
    " ================================\n",
    "\n",
    "**Sample input 1:**\\\n",
    "lgt567892pa \\\n",
    "**Sample output 1:**\\\n",
    "['l', 'g', 't', 'p', 'a']\\\n",
    "Character with maximum ASCII value is: t\n",
    "\n",
    "**Explanation:**\\\n",
    "ASCII value of 'l' is 108, 'g' is 103, 't' is 116, 'p' is 112, 'a' is 97. So, the character with maximum ASCII value is: t (116)\n",
    "\n",
    " ================================\n",
    "\n",
    "**Sample input 1:**\\\n",
    "oje54x217ws\\\n",
    "**Sample output 1:**\\\n",
    "['o', 'j', 'e', 'x', 'w', 's']\\\n",
    "Character with maximum ASCII value is: x\n",
    "\n",
    "**Explanation:**\\\n",
    "ASCII value of 'x' is 120, 'o' is 111,  'j' is 106, 'e' is 101,  'w' is 119 and 's' is 115. So, the character with maximum ASCII value is: x (120).\n",
    "\n",
    " ================================\n",
    "\n",
    "\n"
   ]
  },
  {
   "cell_type": "code",
   "execution_count": 9,
   "metadata": {
    "colab": {},
    "colab_type": "code",
    "id": "gWQIR06LiWEp"
   },
   "outputs": [
    {
     "name": "stdout",
     "output_type": "stream",
     "text": [
      "Enter the string:324g54h6hbnj6\n",
      "Required list: ['g', 'h', 'h', 'b', 'n', 'j']\n",
      "Character with maximum ASCII value is:  n\n"
     ]
    }
   ],
   "source": [
    "#task 3\n",
    "#to do\n",
    "str1=input(\"Enter the string:\")\n",
    "list1=[]\n",
    "for i in str1:\n",
    "    if i.isalpha():\n",
    "        list1.append(i)\n",
    "print(\"Required list:\",list1)\n",
    "maxx=ord(list1[0])\n",
    "for i in range(1,len(list1)) :\n",
    "    if ord(list1[i])>maxx:\n",
    "         maxx=ord(list1[i])\n",
    "print(\"Character with maximum ASCII value is: \",chr(maxx))\n",
    "\n",
    "    \n",
    "\n",
    "    "
   ]
  },
  {
   "cell_type": "code",
   "execution_count": null,
   "metadata": {},
   "outputs": [],
   "source": []
  }
 ],
 "metadata": {
  "colab": {
   "collapsed_sections": [],
   "name": "set 02.ipynb",
   "provenance": []
  },
  "kernelspec": {
   "display_name": "Python 3",
   "language": "python",
   "name": "python3"
  },
  "language_info": {
   "codemirror_mode": {
    "name": "ipython",
    "version": 3
   },
   "file_extension": ".py",
   "mimetype": "text/x-python",
   "name": "python",
   "nbconvert_exporter": "python",
   "pygments_lexer": "ipython3",
   "version": "3.8.3"
  }
 },
 "nbformat": 4,
 "nbformat_minor": 1
}
