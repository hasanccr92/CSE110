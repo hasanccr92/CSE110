'''Write a program that will take Student names and their marks in different courses as input. Your task is to calculate the GPA of the students from course marks and create a dictionary that will contain the student names
given as input as Key and their GPA as the corresponding value. At the end of the program print the dictionary that you created. For simplicity you
can consider all the courses are 3.0 credit hours long. The program will
continue to take inputs unless “STOP” is given as input.
Grading policy is as follows:
Marks >=90,  Grade: 4.0
90> Marks>=85,  Grade point:  3.7
85>Marks>=80,  Grade point:  3.3
80>Marks>=75,  Grade point:  3.0
75>Marks>=70,  Grade point:  2.7
70>Marks>=65,  Grade point:  2.3
65>Marks>=60,  Grade point:  2.0
60>Marks>=57,  Grade point:  1.7
57>Marks>=55,  Grade point:  1.3
55>Marks>=52,  Grade point:  1.0
52>Marks>=50,  Grade point:  0.7
Marks<50,  Grade point:  0.0

And the formula to calculate GPA is:
        GPA = sum(Each course grade point * credit of each course) / (Total
credits attended)

Sample Input:
Adam 83 95 67 72      [Explanation: gpa =
(3.3*3.0+4.0*3.0+2.3*3.0+2.7*3.0)/12.0 = 3.075 ≈ 3.08]
John 40 55 81 76
Alice 65 96 92
STOP

Sample Output:
{'Adam': 3.08, 'John': 1.9, 'Alice': 3.43}
'''

stdict = {}
inp = input().split('\n')
for i in inp:
