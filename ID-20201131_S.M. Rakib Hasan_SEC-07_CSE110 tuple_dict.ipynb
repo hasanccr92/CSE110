{
 "cells": [
  {
   "cell_type": "markdown",
   "metadata": {
    "id": "U4PRkuyUtDRw"
   },
   "source": [
    "# CSE110 Assignment 4\n",
    "\n",
    "\n",
    "## Write the Python code of the following problems:\n",
    "**<font color='red'>[MUST MAINTAIN VARIABLE NAMING CONVENTIONS FOR ALL THE TASKS]</font>**\n"
   ]
  },
  {
   "cell_type": "markdown",
   "metadata": {
    "id": "PD425BrvtDRy"
   },
   "source": [
    "## Part 1: Tuple"
   ]
  },
  {
   "cell_type": "markdown",
   "metadata": {
    "id": "FNOorLYXtDRz"
   },
   "source": [
    "### Task 1\n",
    "\n",
    "Assume, you have been given a tuple.\n",
    "\n",
    "a_tuple = (\"The Institute\",\\\n",
    "        (\"Best Mystery & Thriller\", \"The Silent Patient\", 68821),\\\n",
    "        75717,\\\n",
    "        [1, 2, 3, 400, 5, 6, 7],\\\n",
    "        (\"Best Fiction\", \"The Testaments\", 98291)\\\n",
    ")\n",
    "\n",
    "Write **one line** of Python code to access and print the value 400.\n",
    "\n",
    "Output: 400\n",
    "\n"
   ]
  },
  {
   "cell_type": "code",
   "execution_count": 1,
   "metadata": {
    "executionInfo": {
     "elapsed": 1216,
     "status": "ok",
     "timestamp": 1604556761324,
     "user": {
      "displayName": "Mahrin Tasfe",
      "photoUrl": "https://lh3.googleusercontent.com/a-/AOh14GjLJ7sXkXqft7B5qITlXMOCijU0QpWeO-1YhLoj-g=s64",
      "userId": "05682083127640569309"
     },
     "user_tz": -360
    },
    "id": "NDKB1cIMtDR0"
   },
   "outputs": [
    {
     "name": "stdout",
     "output_type": "stream",
     "text": [
      "400\n"
     ]
    }
   ],
   "source": [
    "#TODO\n",
    "a_tuple = (\"The Institute\",\n",
    "(\"Best Mystery & Thriller\", \"The Silent Patient\", 68821),\n",
    "75717,\n",
    "[1, 2, 3, 400, 5, 6, 7],\n",
    "(\"Best Fiction\", \"The Testaments\", 98291)\n",
    ")\n",
    "print(a_tuple[-2][-4])"
   ]
  },
  {
   "cell_type": "markdown",
   "metadata": {
    "id": "BXlIw1svtDR-"
   },
   "source": [
    "### Task 2\n",
    "\n",
    "Assume, you have been given a tuple. Write a Python program that creates a **new tuple** excluding the first and last two elements of the given tuple and prints the new tuple. \n",
    "\n",
    "================================================================\n",
    "\n",
    "**Hint:** You need to use tuple slicing.\n",
    "\n",
    "================================================================\n",
    "\n",
    "**Input 1:**\\\n",
    "(10, 20, 24, 25, 26, 35, 70)\\\n",
    "**Output 1:**\\\n",
    "(24, 25, 26)\n",
    "\n",
    "================================================================\n",
    "\n",
    "**Input 2:**\\\n",
    "(-10, 20, 30, 40)\\\n",
    "**Output 2:**\\\n",
    "()\n",
    "\n",
    "================================================================\n",
    "\n",
    "**Input 3:**\\\n",
    "(-10, 20, 25, 30, 40)\\\n",
    "**Output 3:**\\\n",
    "(25,)\n",
    "\n",
    "\n"
   ]
  },
  {
   "cell_type": "code",
   "execution_count": 2,
   "metadata": {
    "executionInfo": {
     "elapsed": 1212,
     "status": "ok",
     "timestamp": 1604556761327,
     "user": {
      "displayName": "Mahrin Tasfe",
      "photoUrl": "https://lh3.googleusercontent.com/a-/AOh14GjLJ7sXkXqft7B5qITlXMOCijU0QpWeO-1YhLoj-g=s64",
      "userId": "05682083127640569309"
     },
     "user_tz": -360
    },
    "id": "FTJ-5AmNtDR_"
   },
   "outputs": [
    {
     "name": "stdout",
     "output_type": "stream",
     "text": [
      "Enter number of tuple elements:4\n",
      "Enter the element of tuple:43\n",
      "Enter the element of tuple:64\n",
      "Enter the element of tuple:87\n",
      "Enter the element of tuple:6\n",
      "The given tuple is: (43, 64, 87, 6)\n",
      "New tuple: ()\n"
     ]
    }
   ],
   "source": [
    "#Todo\n",
    "a=[]\n",
    "n=int(input(\"Enter number of tuple elements:\"))\n",
    "for i in range(n):\n",
    "    a.append(int(input(\"Enter the element of tuple:\")))\n",
    "\n",
    "a= tuple(a)\n",
    "print(\"The given tuple is:\",a)\n",
    "print(\"New tuple:\",a[2:-2])"
   ]
  },
  {
   "cell_type": "markdown",
   "metadata": {
    "id": "Z3GS2TE6tDSG"
   },
   "source": [
    "### Task 3\n",
    "\n",
    "Assume, you have been given a tuple. \n",
    "\n",
    "\n",
    "book_info = (\\\n",
    "    (\"Best Mystery & Thriller\",\"The Silent Patient\",68,821),\\\n",
    "    (\"Best Horror\",\"The Institute\",75,717),\\\n",
    "    (\"Best History & Biography\",\"The five\",31,783 ),\\\n",
    "    (\"Best Fiction\",\"The Testaments\",98,291)\\\n",
    ")\n",
    "\n",
    "Write a Python program that prints its size and all its elements.\n",
    "\n",
    "===============================================================\n",
    "\n",
    "**Output:**\\\n",
    "Size of the tuple is: 4\\\n",
    "('Best Mystery & Thriller', 'The Silent Patient', 68, 821)\\\n",
    "('Best Horror', 'The Institute', 75, 717)\\\n",
    "('Best History & Biography', 'The five', 31, 783)\\\n",
    "('Best Fiction', 'The Testaments', 98, 291)\n"
   ]
  },
  {
   "cell_type": "code",
   "execution_count": 2,
   "metadata": {
    "executionInfo": {
     "elapsed": 1209,
     "status": "ok",
     "timestamp": 1604556761328,
     "user": {
      "displayName": "Mahrin Tasfe",
      "photoUrl": "https://lh3.googleusercontent.com/a-/AOh14GjLJ7sXkXqft7B5qITlXMOCijU0QpWeO-1YhLoj-g=s64",
      "userId": "05682083127640569309"
     },
     "user_tz": -360
    },
    "id": "RPFYcAjntDSG"
   },
   "outputs": [
    {
     "name": "stdout",
     "output_type": "stream",
     "text": [
      "size of the tuple is: 4\n",
      "('Best Mystery & Thriller', 'The Silent Patient', 68, 821)\n",
      "('Best Horror', 'The Institute', 75, 717)\n",
      "('Best History & Biography', 'The five', 31, 783)\n",
      "('Best Fiction', 'The Testaments', 98, 291)\n"
     ]
    }
   ],
   "source": [
    "#Todo\n",
    "book_info = (\n",
    "(\"Best Mystery & Thriller\",\"The Silent Patient\",68,821),\n",
    "(\"Best Horror\",\"The Institute\",75,717),\n",
    "(\"Best History & Biography\",\"The five\",31,783 ),\n",
    "(\"Best Fiction\",\"The Testaments\",98,291)\n",
    ")\n",
    "print(\"size of the tuple is:\", len(book_info))\n",
    "for i in book_info:\n",
    "    print(i)"
   ]
  },
  {
   "cell_type": "markdown",
   "metadata": {
    "id": "glKgAPlGtDSK"
   },
   "source": [
    "### Task 4\n",
    "\n",
    "Assume, you have been given a tuple. \n",
    "\n",
    "book_info = (\\\n",
    "    (\"Best Mystery & Thriller\",\"The Silent Patient\",68821),\\\n",
    "    (\"Best Horror\",\"The Institute\",75717),\\\n",
    "    (\"Best History & Biography\",\"The five\",31783 ),\\\n",
    "    (\"Best Fiction\",\"The Testaments\",98291)\\\n",
    ")\n",
    "\n",
    "Write a Python program that prints the information about the Good Reads Choice Awards from a tuple. Your program should print the award category, the book name, and its total votes needed for the win.\n",
    "\n",
    "===============================================================\n",
    "\n",
    "**Hint:** You need to handle the quotation marks as a part of the output.\n",
    "**<font color='red'>[Must use Tuple unpacking for printing.]</font>**\n",
    "\n",
    "\n",
    "===============================================================\n",
    "\n",
    "**Output:**\\\n",
    "The Silent Patient won the 'Best Mystery & Thriller' category with 68821 votes\\\n",
    "The Institute won the 'Best Horror' category with 75717 votes\\\n",
    "The five won the 'Best History & Biography' category with 31783 votes\\\n",
    "The Testaments won the 'Best Fiction' category with 98291 votes\n",
    "\n",
    "\n",
    "\n"
   ]
  },
  {
   "cell_type": "code",
   "execution_count": 1,
   "metadata": {
    "executionInfo": {
     "elapsed": 1205,
     "status": "ok",
     "timestamp": 1604556761328,
     "user": {
      "displayName": "Mahrin Tasfe",
      "photoUrl": "https://lh3.googleusercontent.com/a-/AOh14GjLJ7sXkXqft7B5qITlXMOCijU0QpWeO-1YhLoj-g=s64",
      "userId": "05682083127640569309"
     },
     "user_tz": -360
    },
    "id": "LgTKpSGatDSM"
   },
   "outputs": [
    {
     "name": "stdout",
     "output_type": "stream",
     "text": [
      "The Silent Patient won the ' Best Mystery & Thriller ' category with 68821 votes\n",
      "The Institute won the ' Best Horror ' category with 75717 votes\n",
      "The five won the ' Best History & Biography ' category with 31783 votes\n",
      "The Testaments won the ' Best Fiction ' category with 98291 votes\n"
     ]
    }
   ],
   "source": [
    "#Todo\n",
    "book_info = (\n",
    "(\"Best Mystery & Thriller\",\"The Silent Patient\",68821),\n",
    "(\"Best Horror\",\"The Institute\",75717),\n",
    "(\"Best History & Biography\",\"The five\",31783 ),\n",
    "(\"Best Fiction\",\"The Testaments\",98291)\n",
    ")\n",
    "a,b,c,d=book_info\n",
    "print(a[1],\"won the\",\"'\",a[0],\"'\",\"category with\",a[2],\"votes\")\n",
    "print(b[1],\"won the\",\"'\",b[0],\"'\",\"category with\",b[2],\"votes\")\n",
    "print(c[1],\"won the\",\"'\",c[0],\"'\",\"category with\",c[2],\"votes\")\n",
    "print(d[1],\"won the\",\"'\",d[0],\"'\",\"category with\",d[2],\"votes\")"
   ]
  },
  {
   "cell_type": "markdown",
   "metadata": {
    "id": "bRe9K_j55zpb"
   },
   "source": [
    "### Task 5\n",
    "Write a python program that takes an input from the user and finds the number of times that input is present in the tuple.\n",
    "\n",
    "===============================\n",
    "\n",
    "<b>Input 1 </b><br/>\n",
    "(10, 8, 5, 2, 10, 15, 10, 8, 5, 8, 8, 2) <br/>\n",
    "8<br/>\n",
    "<b> Output 1 </b> <br/>\n",
    "8 appears 4 times in the tuple<br/>\n",
    "\n",
    "=============================================\n",
    "\n",
    "<b> Input 2 </b><br/>\n",
    "(10, 8, 5, 2, 10, 15, 10, 8, 5, 8, 8, 2)<br/>\n",
    "1<br/>\n",
    "<b> Output 2 </b><br/>\n",
    "1 appears 0 times in the tuple"
   ]
  },
  {
   "cell_type": "code",
   "execution_count": 8,
   "metadata": {
    "executionInfo": {
     "elapsed": 1203,
     "status": "ok",
     "timestamp": 1604556761329,
     "user": {
      "displayName": "Mahrin Tasfe",
      "photoUrl": "https://lh3.googleusercontent.com/a-/AOh14GjLJ7sXkXqft7B5qITlXMOCijU0QpWeO-1YhLoj-g=s64",
      "userId": "05682083127640569309"
     },
     "user_tz": -360
    },
    "id": "mC-B1fpStDST"
   },
   "outputs": [
    {
     "name": "stdout",
     "output_type": "stream",
     "text": [
      "Enter the number:8\n",
      "8 appears 4 times in the tuple\n"
     ]
    }
   ],
   "source": [
    "#Todo\n",
    "n=int(input(\"Enter the number:\"))\n",
    "tuple1=(10, 8, 5, 2, 10, 15, 10, 8, 5, 8, 8, 2)\n",
    "count=0\n",
    "for i in tuple1:\n",
    "    if i==n:\n",
    "        count+=1\n",
    "print(n,\"appears\",count,\"times in the tuple\")\n",
    "    "
   ]
  },
  {
   "cell_type": "raw",
   "metadata": {
    "id": "QWNi_JWr6AfC"
   },
   "source": [
    "# Task 6\n",
    "Write a Python program to reverse a tuple.\n",
    "\n",
    "===============================================================\n",
    "\n",
    "<b> Hint: </b>  Unlike lists, tuples are immutable. So, in order to reverse a tuple, first we need to convert it into list, modify, then convert it back to tuple. \n",
    "\n",
    "===============================\n",
    "\n",
    "<b>Input 1 </b><br/>\n",
    "('a','b','c','d','e','f','g','h') <br/>\n",
    "<b> Output 1 </b> <br/>\n",
    "('h', 'g', 'f', 'e', 'd', 'c', 'b', 'a')<br/>\n",
    "\n",
    "================================\n",
    "\n",
    "<b> Input 2 </b><br/>\n",
    "(10,20,30,40,50,60)<br/>\n",
    "<b> Output 2 </b><br/>\n",
    "(60, 50, 40, 30, 20, 10)\n",
    "\n"
   ]
  },
  {
   "cell_type": "code",
   "execution_count": 4,
   "metadata": {
    "executionInfo": {
     "elapsed": 1200,
     "status": "ok",
     "timestamp": 1604556761329,
     "user": {
      "displayName": "Mahrin Tasfe",
      "photoUrl": "https://lh3.googleusercontent.com/a-/AOh14GjLJ7sXkXqft7B5qITlXMOCijU0QpWeO-1YhLoj-g=s64",
      "userId": "05682083127640569309"
     },
     "user_tz": -360
    },
    "id": "CJrUcYAN6Bkx"
   },
   "outputs": [
    {
     "name": "stdout",
     "output_type": "stream",
     "text": [
      "Enter number of tuple elements:5\n",
      "Enter the element of tuple:a\n",
      "Enter the element of tuple:b\n",
      "Enter the element of tuple:c\n",
      "Enter the element of tuple:d\n",
      "Enter the element of tuple:e\n",
      "The tuple is: ('a', 'b', 'c', 'd', 'e')\n",
      "The reversed tuple is: ('e', 'd', 'c', 'b', 'a')\n"
     ]
    }
   ],
   "source": [
    "#todo\n",
    "a=[]\n",
    "n=int(input(\"Enter number of tuple elements:\"))\n",
    "for i in range(n):\n",
    "    a.append(input(\"Enter the element of tuple:\"))\n",
    "\n",
    "a= tuple(a)\n",
    "print(\"The tuple is:\",a)\n",
    "x=reversed(a)\n",
    "print(\"The reversed tuple is:\",tuple(x))\n"
   ]
  },
  {
   "cell_type": "markdown",
   "metadata": {
    "id": "km0QurTJtDSX"
   },
   "source": [
    "## Part 2: Dictionary"
   ]
  },
  {
   "cell_type": "markdown",
   "metadata": {
    "id": "kvV-HnCntDSc"
   },
   "source": [
    "### Task 07\n",
    "Suppose you are given the following two dictionaries.\\\n",
    "Now create a new dictionary marks merging the two of the above dictionaries, **so that the original two dictionaries remain unchanged.**\n",
    "\n",
    "========================================\n",
    "\n",
    "**Hint:** You can use dictionary functions.\n",
    "\n",
    "========================================\n",
    "\n",
    "**Input:**\\\n",
    "{'Harry':15, 'Draco':8, 'Nevil':19}\\\n",
    "{'Ginie':18, 'Luna': 14}\n",
    "\n",
    "**Output:**\\\n",
    "{'Harry': 15, 'Draco': 8, 'Nevil': 19, 'Ginie': 18, 'Luna': 14}\n",
    "\n",
    "\n",
    "========================================\n",
    "\n",
    "**Input:**\\\n",
    "{'A':90, 'B': 0}\\\n",
    "{'C':50}\n",
    "\n",
    "**Output:**\\\n",
    "{'A': 90, 'B': 0, 'C': 50}\n",
    "\n",
    "\n"
   ]
  },
  {
   "cell_type": "code",
   "execution_count": 4,
   "metadata": {
    "executionInfo": {
     "elapsed": 1198,
     "status": "ok",
     "timestamp": 1604556761331,
     "user": {
      "displayName": "Mahrin Tasfe",
      "photoUrl": "https://lh3.googleusercontent.com/a-/AOh14GjLJ7sXkXqft7B5qITlXMOCijU0QpWeO-1YhLoj-g=s64",
      "userId": "05682083127640569309"
     },
     "user_tz": -360
    },
    "id": "BGSyClBPtDSd"
   },
   "outputs": [
    {
     "name": "stdout",
     "output_type": "stream",
     "text": [
      "First output: {'Harry': 15, 'Draco': 8, 'Nevil': 19, 'Ginie': 18, 'Luna': 14}\n",
      "Second output: {'A': 90, 'B': 0, 'C': 50}\n"
     ]
    }
   ],
   "source": [
    "#todo\n",
    "dict_1={'Harry':15, 'Draco':8, 'Nevil':19}\n",
    "dict_2={'Ginie':18, 'Luna': 14}\n",
    "dict_1.update(dict_2)\n",
    "print(\"First output:\",dict_1)\n",
    "#second case\n",
    "dicta={'A':90, 'B': 0}\n",
    "dictb={'C':50}\n",
    "dicta.update(dictb)\n",
    "print(\"Second output:\",dicta)"
   ]
  },
  {
   "cell_type": "markdown",
   "metadata": {
    "id": "QRzP4HYStDSi"
   },
   "source": [
    "### Task 08\n",
    "Write a Python program that takes a dictionary as a input from the user, then prints the average of all the values in a dictionary.\n",
    "\n",
    " <font color='red'>[ You are not allowed to use len() and sum()]</font>\n",
    "\n",
    "========================================\n",
    "\n",
    "**Hint:** You can use dictionary functions to get all the values of the dictionary, then run loop to calculate the sum and the total number of values in the dictionary.\n",
    "\n",
    "========================================\n",
    "\n",
    "**Input:**\\\n",
    "{'Jon': 100, 'Dan':200, 'Rob':300}\n",
    "\n",
    "**Output:**\\\n",
    "Average is 200\n",
    "\n",
    "========================================\n",
    "\n",
    "\n",
    "**Input:**\\\n",
    "{'Jon': 100, 'Dan':200, 'Rob':30}\n",
    "\n",
    "**Output:**\\\n",
    "Average is 110\n",
    "\n",
    "\n"
   ]
  },
  {
   "cell_type": "code",
   "execution_count": 19,
   "metadata": {
    "executionInfo": {
     "elapsed": 1195,
     "status": "ok",
     "timestamp": 1604556761331,
     "user": {
      "displayName": "Mahrin Tasfe",
      "photoUrl": "https://lh3.googleusercontent.com/a-/AOh14GjLJ7sXkXqft7B5qITlXMOCijU0QpWeO-1YhLoj-g=s64",
      "userId": "05682083127640569309"
     },
     "user_tz": -360
    },
    "id": "VMRLnA53tDSk"
   },
   "outputs": [
    {
     "name": "stdout",
     "output_type": "stream",
     "text": [
      "Enter number of elements:4\n",
      "Enter key: a\n",
      "Enter value: 12\n",
      "Enter key: b\n",
      "Enter value: 23\n",
      "Enter key: c\n",
      "Enter value: 34\n",
      "Enter key: d\n",
      "Enter value: 45\n",
      "The given dictionary is: {'a': 12, 'b': 23, 'c': 34, 'd': 45}\n",
      "Average is  28.5\n"
     ]
    }
   ],
   "source": [
    "#todo\n",
    "a={}\n",
    "n= int(input(\"Enter number of elements:\"))\n",
    "for i in range (n):\n",
    "    k=input(\"Enter key: \")\n",
    "    v=int(input(\"Enter value: \"))\n",
    "    a.update({k:v})\n",
    "print(\"The given dictionary is:\",a)\n",
    "x=(a.values())\n",
    "count=0\n",
    "for i in x:\n",
    "    count +=1\n",
    "total=0\n",
    "for i in x:\n",
    "    total +=i\n",
    "avg=total/count\n",
    "print(\"Average is \",avg)\n",
    "    "
   ]
  },
  {
   "cell_type": "markdown",
   "metadata": {
    "id": "le7fZ8XC9j_x"
   },
   "source": [
    "#### Task 09\n",
    "Suppose there is a dictionary named exam_marks.\\\n",
    "exam_marks = {'Cierra Vega': 175, 'Alden Cantrell': 200, 'Kierra Gentry': 165, 'Pierre Cox': 190}\n",
    "\n",
    "Now create a new dictionary which filters out all the values lower than the user input\n",
    "\n",
    "===============================\n",
    "\n",
    "**Input:**\\\n",
    "170\\\n",
    "**Output:**\\\n",
    "{'Cierra Vega': 175, 'Alden Cantrell': 200, 'Pierre Cox': 190}\n",
    "\n",
    "===============================\n",
    "\n",
    "**Input:**\\\n",
    "190\\\n",
    "**Output:**\\\n",
    "{'Alden Cantrell': 200, 'Pierre Cox': 190}"
   ]
  },
  {
   "cell_type": "code",
   "execution_count": 5,
   "metadata": {
    "executionInfo": {
     "elapsed": 1193,
     "status": "ok",
     "timestamp": 1604556761332,
     "user": {
      "displayName": "Mahrin Tasfe",
      "photoUrl": "https://lh3.googleusercontent.com/a-/AOh14GjLJ7sXkXqft7B5qITlXMOCijU0QpWeO-1YhLoj-g=s64",
      "userId": "05682083127640569309"
     },
     "user_tz": -360
    },
    "id": "qJWoUsLN9lBY",
    "scrolled": true
   },
   "outputs": [
    {
     "name": "stdout",
     "output_type": "stream",
     "text": [
      "Enter the number:190\n",
      "{'Alden Cantrell': 200, 'Pierre Cox': 190}\n"
     ]
    }
   ],
   "source": [
    "#todo\n",
    "exam_marks = {'Cierra Vega': 175, 'Alden Cantrell': 200, 'Kierra Gentry': 165, 'Pierre Cox': 190}\n",
    "n=int(input(\"Enter the number:\"))\n",
    "dict1={}\n",
    "\n",
    "for keys,values in exam_marks.items():\n",
    "    if n<=values:\n",
    "        dict1[keys]=values\n",
    "print(dict1)"
   ]
  },
  {
   "cell_type": "markdown",
   "metadata": {
    "id": "IsqFQpqKtDSs"
   },
   "source": [
    "### Task 10\n",
    "Write a Python program that finds the largest value with its key from the following dictionary.\n",
    "\n",
    " <font color='red'>[without using max() function]</font> \n",
    "\n",
    "===============================================================\n",
    "\n",
    "**Hint:** Think of membership operators (in and not in). You can use dictionary functions to get the values.\n",
    "\n",
    "===============================================================\n",
    "\n",
    "**Input:**\\\n",
    " {'sci fi': 12, 'mystery': 15, 'horror': 8, 'mythology': 10, 'young_adult': 4, 'adventure':14}\n",
    "\n",
    "**Output:**\\\n",
    "The highest selling book genre is mystery and the number of books sold are 15\n",
    "\n",
    "===============================================================\n",
    "\n",
    "**Input:**\\\n",
    "{'sci fi': 5, 'mystery': 3, 'horror': 14,\n",
    "             'young_adult': 2, 'adventure':9}\n",
    "\n",
    "**Output:**\\\n",
    "The highest selling book genre is  horror  and the number of books sold are  14\n",
    "\n",
    "\n"
   ]
  },
  {
   "cell_type": "code",
   "execution_count": 7,
   "metadata": {
    "executionInfo": {
     "elapsed": 1191,
     "status": "ok",
     "timestamp": 1604556761333,
     "user": {
      "displayName": "Mahrin Tasfe",
      "photoUrl": "https://lh3.googleusercontent.com/a-/AOh14GjLJ7sXkXqft7B5qITlXMOCijU0QpWeO-1YhLoj-g=s64",
      "userId": "05682083127640569309"
     },
     "user_tz": -360
    },
    "id": "v9Kosgs4tDSt"
   },
   "outputs": [
    {
     "name": "stdout",
     "output_type": "stream",
     "text": [
      "The highest selling book genre is  mystery  and the number of books sold are  15\n"
     ]
    }
   ],
   "source": [
    "#todo\n",
    "dict1={'sci fi': 12, 'mystery': 15, 'horror': 8, 'mythology': 10, 'young_adult': 4, 'adventure':1}\n",
    "dictv=0\n",
    "dictk=\"\"\n",
    "\n",
    "for k,v in dict1.items():\n",
    "    if v>dictv:\n",
    "        dictk=k\n",
    "        dictv=v\n",
    "print(\"The highest selling book genre is \",dictk,\" and the number of books sold are \",dictv)\n"
   ]
  },
  {
   "cell_type": "markdown",
   "metadata": {
    "id": "qozufw7itDSy"
   },
   "source": [
    "### Task 11\n",
    "Write a Python program that combines two dictionary **adding values for common keys**. \n",
    "\n",
    "===============================================================\n",
    "\n",
    "**Hint:** Think of membership operators (in and not in). You can use dictionary functions to get the values. Need to create a new dictionary to store the combined items.\n",
    "\n",
    "===============================================================\n",
    "\n",
    "**Input:**\\\n",
    "dict1 = {'a': 10, 'b':20, 'c':30}\\\n",
    "dict2 = {'a': 10, 'c':20, 'd':30, 'e':40}\n",
    "\n",
    "**Output:**\\\n",
    "{'a': 20, 'b': 20, 'c': 50, 'd': 30, 'e': 40}\n",
    "\n",
    "\n"
   ]
  },
  {
   "cell_type": "code",
   "execution_count": 9,
   "metadata": {
    "executionInfo": {
     "elapsed": 1187,
     "status": "ok",
     "timestamp": 1604556761333,
     "user": {
      "displayName": "Mahrin Tasfe",
      "photoUrl": "https://lh3.googleusercontent.com/a-/AOh14GjLJ7sXkXqft7B5qITlXMOCijU0QpWeO-1YhLoj-g=s64",
      "userId": "05682083127640569309"
     },
     "user_tz": -360
    },
    "id": "S0EIYODZtDSz"
   },
   "outputs": [
    {
     "name": "stdout",
     "output_type": "stream",
     "text": [
      "{'a': 20, 'b': 20, 'c': 50, 'd': 30, 'e': 40}\n"
     ]
    }
   ],
   "source": [
    "#todo\n",
    "dict1 = {'a': 10, 'b':20, 'c':30}\n",
    "dict2 = {'a': 10, 'c':20, 'd':30, 'e':40}\n",
    "dict3={}\n",
    "for key,value in dict1.items():\n",
    "    if key in dict2.keys():\n",
    "        dict3[key]=dict1[key]+dict2[key]\n",
    "    else:\n",
    "        dict3[key]=dict1[key]\n",
    "for key,value in dict2.items():\n",
    "    if key in dict1.keys():\n",
    "        dict3[key]=dict1[key]+dict2[key]\n",
    "    else:\n",
    "        dict3[key]=dict2[key]\n",
    "print(dict3)\n"
   ]
  },
  {
   "cell_type": "markdown",
   "metadata": {
    "id": "d0a82nIt9ufj"
   },
   "source": [
    "### Task 12\n",
    "Write a Python program which prints the frequency of the numbers that were given as input by the user. Stop taking input when you find the string \"STOP\".\n",
    "\n",
    "===============================\n",
    "\n",
    "**Hints:** Use a dictionary to solve the problem\n",
    "\n",
    "===============================\n",
    "\n",
    "**Input:**\\\n",
    "10, 20, 20, 30, 10, 50, 90, STOP\n",
    "\n",
    "**Output:**\\\n",
    "10 - 2 times\\\n",
    "20 - 2 times\\\n",
    "30 - 1 times\\\n",
    "50 - 1 times\\\n",
    "90 - 1 times\n"
   ]
  },
  {
   "cell_type": "code",
   "execution_count": 1,
   "metadata": {
    "executionInfo": {
     "elapsed": 1185,
     "status": "ok",
     "timestamp": 1604556761334,
     "user": {
      "displayName": "Mahrin Tasfe",
      "photoUrl": "https://lh3.googleusercontent.com/a-/AOh14GjLJ7sXkXqft7B5qITlXMOCijU0QpWeO-1YhLoj-g=s64",
      "userId": "05682083127640569309"
     },
     "user_tz": -360
    },
    "id": "snOKGA1d9vFC"
   },
   "outputs": [
    {
     "name": "stdout",
     "output_type": "stream",
     "text": [
      "Enter the number:2\n",
      "Enter the number:3\n",
      "Enter the number:4\n",
      "Enter the number:1\n",
      "Enter the number:STOP\n",
      "2 - 1 times\n",
      "3 - 1 times\n",
      "4 - 1 times\n",
      "1 - 1 times\n"
     ]
    }
   ],
   "source": [
    "#todo\n",
    "dict1={}\n",
    "while True:\n",
    "    n=input(\"Enter the number:\")\n",
    "    if n==\"STOP\":\n",
    "        break\n",
    "    if n in dict1:\n",
    "        dict1[n]+=1\n",
    "    else:\n",
    "        dict1.update({n:1})\n",
    "for key,value in dict1.items():\n",
    "    print(key,\"-\",value,\"times\")"
   ]
  },
  {
   "cell_type": "markdown",
   "metadata": {
    "id": "hAqjgwGNtDS2"
   },
   "source": [
    "## Task 13\n",
    "Write a Python program that takes a string as an input from the user and counts the frequency of each character using the dictionary. For solving this problem, you need to use each character as a key and its frequency as values. <font color='red'>[without using count() function]</font> \n",
    "\n",
    "===============================================================\n",
    "\n",
    "**Hint:** Need to create a new dictionary to store the frequency. Case is ignored (P and p are considered same).\n",
    "\n",
    "\n",
    "===============================================================\n",
    "\n",
    "**Input:**\\\n",
    "\"Python programming is fun\"\n",
    "\n",
    "**Output:**\\\n",
    "{'p': 2, 'y': 1, 't': 1, 'h': 1, 'o': 2, 'n': 3, 'r': 2, 'g': 2, 'a': 1, 'm': 2, 'i': 2, 's': 1, 'f': 1, 'u': 1}\n",
    "\n",
    "\n",
    "\n"
   ]
  },
  {
   "cell_type": "code",
   "execution_count": 12,
   "metadata": {
    "executionInfo": {
     "elapsed": 1182,
     "status": "ok",
     "timestamp": 1604556761334,
     "user": {
      "displayName": "Mahrin Tasfe",
      "photoUrl": "https://lh3.googleusercontent.com/a-/AOh14GjLJ7sXkXqft7B5qITlXMOCijU0QpWeO-1YhLoj-g=s64",
      "userId": "05682083127640569309"
     },
     "user_tz": -360
    },
    "id": "-m2yPIT7tDS3"
   },
   "outputs": [
    {
     "name": "stdout",
     "output_type": "stream",
     "text": [
      "Enter the string:python python python\n",
      "{'p': 3, 'y': 3, 't': 3, 'h': 3, 'o': 3, 'n': 3}\n"
     ]
    }
   ],
   "source": [
    "#todo\n",
    "dict1={}\n",
    "str1=input(\"Enter the string:\")\n",
    "lower=str1.lower()\n",
    "for index in lower:\n",
    "    if index==\" \":\n",
    "        continue\n",
    "    if index in dict1:\n",
    "        dict1[index]+=1\n",
    "    else:\n",
    "        dict1.update({index:1})\n",
    "print(dict1)"
   ]
  },
  {
   "cell_type": "markdown",
   "metadata": {
    "id": "QWf1zsBctDS6"
   },
   "source": [
    "### Task 14\n",
    "Suppose you are given the following dictionary where its values are lists. \n",
    "\n",
    "\n",
    "dict = {'A': [1,2,3], 'b': ['1', '2'], \"c\": [4, 5, 6, 7]}\n",
    "\n",
    "Write a Python program that counts the total number of items in the dictionary’s values and prints it. \n",
    "\n",
    "<font color='red'>[without using sum() , len(), count() function]</font> \n",
    "\n",
    "===============================================================\n",
    "\n",
    "**Output:**\\\n",
    "9\n",
    "\n"
   ]
  },
  {
   "cell_type": "code",
   "execution_count": 1,
   "metadata": {
    "executionInfo": {
     "elapsed": 1180,
     "status": "ok",
     "timestamp": 1604556761335,
     "user": {
      "displayName": "Mahrin Tasfe",
      "photoUrl": "https://lh3.googleusercontent.com/a-/AOh14GjLJ7sXkXqft7B5qITlXMOCijU0QpWeO-1YhLoj-g=s64",
      "userId": "05682083127640569309"
     },
     "user_tz": -360
    },
    "id": "atnD3A1utDS6"
   },
   "outputs": [
    {
     "name": "stdout",
     "output_type": "stream",
     "text": [
      "9\n"
     ]
    }
   ],
   "source": [
    "#todo\n",
    "dict = {'A': [1,2,3], 'b': ['1', '2'], \"c\": [4, 5, 6, 7]}\n",
    "x=0\n",
    "for value in dict.values():\n",
    "    for index in value:\n",
    "        x+=1\n",
    "print(x)"
   ]
  },
  {
   "cell_type": "markdown",
   "metadata": {
    "id": "-imuPb3EtDTD"
   },
   "source": [
    "### Task 15\n",
    "\n",
    "Suppose you have been given the following list of tuples. \n",
    "\n",
    "list = [(\"a\", 1), (\"b\", 2), (\"a\", 3), (\"b\", 1), (\"a\", 2), (\"c\", 1)]\n",
    "\n",
    "Write a Python program that converts this list of tuples into a dictionary and prints the dictionary. \n",
    "\n",
    "<font color='red'>[You are not allowed to use set]</font> \n",
    "\n",
    "===============================================================\n",
    "\n",
    "**Hint:** Think of membership operators (in and not in).\n",
    "\n",
    "===============================================================\n",
    "\n",
    "**Output:**\n",
    "\n",
    "{'a': [1, 3, 2], 'b': [2, 1], 'c': [1]}\n",
    "\n",
    " \n"
   ]
  },
  {
   "cell_type": "code",
   "execution_count": 7,
   "metadata": {
    "executionInfo": {
     "elapsed": 1177,
     "status": "ok",
     "timestamp": 1604556761335,
     "user": {
      "displayName": "Mahrin Tasfe",
      "photoUrl": "https://lh3.googleusercontent.com/a-/AOh14GjLJ7sXkXqft7B5qITlXMOCijU0QpWeO-1YhLoj-g=s64",
      "userId": "05682083127640569309"
     },
     "user_tz": -360
    },
    "id": "bBBcHpgYtDTE"
   },
   "outputs": [
    {
     "name": "stdout",
     "output_type": "stream",
     "text": [
      "{'a': [1, 3, 2], 'b': [2, 1], 'c': [1]}\n"
     ]
    }
   ],
   "source": [
    "#todo\n",
    "list1 = [(\"a\", 1), (\"b\", 2), (\"a\", 3), (\"b\", 1), (\"a\", 2), (\"c\", 1)]\n",
    "dict1 = {}\n",
    "\n",
    "for i in list1:\n",
    "    if i[0] not in dict1:\n",
    "        dict1[i[0]] = []\n",
    "        dict1[i[0]].append(i[1])\n",
    "    else:\n",
    "        dict1[i[0]].append(i[1])\n",
    "\n",
    "print(dict1)\n"
   ]
  },
  {
   "cell_type": "markdown",
   "metadata": {
    "id": "UrxbFOWk5ASO"
   },
   "source": [
    "## Optional Tasks (16-20) [Ungraded]"
   ]
  },
  {
   "cell_type": "markdown",
   "metadata": {
    "id": "vtQRbX994-Se"
   },
   "source": [
    "### Task 16\n",
    "\n",
    "Given a list of tuples, the task is to multiply the elements of the tuple and return list of multiplied elements.\n",
    "\n",
    "===============================\n",
    "\n",
    "**Input 1:**\\\n",
    "[(2,3),(4,5),(6,7),(2,8)]\\\n",
    "**Output 1:**\\\n",
    "[6,20,42,16]\n",
    "\n",
    "=============================\n",
    "\n",
    "**Input 2:**\\\n",
    " [(11, 22), (33, 55), (55, 77), (11, 44)]\\\n",
    "**Output 2:**\\\n",
    "[242, 1815, 4235, 484]"
   ]
  },
  {
   "cell_type": "code",
   "execution_count": 37,
   "metadata": {
    "executionInfo": {
     "elapsed": 1175,
     "status": "ok",
     "timestamp": 1604556761335,
     "user": {
      "displayName": "Mahrin Tasfe",
      "photoUrl": "https://lh3.googleusercontent.com/a-/AOh14GjLJ7sXkXqft7B5qITlXMOCijU0QpWeO-1YhLoj-g=s64",
      "userId": "05682083127640569309"
     },
     "user_tz": -360
    },
    "id": "xy-E_k6y5maj"
   },
   "outputs": [],
   "source": [
    "#todo"
   ]
  },
  {
   "cell_type": "markdown",
   "metadata": {
    "id": "jZQHbegc-QBA"
   },
   "source": [
    "### Task 17\n",
    "\n",
    "Assume, you have been given a tuple.\n",
    "\n",
    "a_tuple = ( [1, 2, 3], [4, 5, 6], [7, 8, 9], [10, 11, 12])\n",
    "\n",
    "Write a Python program that asks the user for input (can be any data type) and **replaces the last element of each of the inner lists with the user given value.**\n",
    "\n",
    "===============================================================\n",
    "\n",
    "**Example 1:**\\\n",
    "Input: abc\\\n",
    "Output: ([1, 2, 'abc'], [4, 5, 'abc'], [7, 8, 'abc'], [10, 11, 'abc'])\n",
    "\n",
    "===============================================================\n",
    "\n",
    "**Example 2:**\\\n",
    "Input: 1000\\\n",
    "Output: ([1, 2, '1000'], [4, 5, '1000'], [7, 8, '1000'], [10, 11, '1000'])\n",
    "\n"
   ]
  },
  {
   "cell_type": "code",
   "execution_count": 38,
   "metadata": {
    "executionInfo": {
     "elapsed": 1174,
     "status": "ok",
     "timestamp": 1604556761337,
     "user": {
      "displayName": "Mahrin Tasfe",
      "photoUrl": "https://lh3.googleusercontent.com/a-/AOh14GjLJ7sXkXqft7B5qITlXMOCijU0QpWeO-1YhLoj-g=s64",
      "userId": "05682083127640569309"
     },
     "user_tz": -360
    },
    "id": "SjdnEjCz5op1"
   },
   "outputs": [],
   "source": [
    "#todo"
   ]
  },
  {
   "cell_type": "markdown",
   "metadata": {
    "id": "dVZrZ8Od6WwM"
   },
   "source": [
    "### Task 18\n",
    "\n",
    "Suppose there is a dictionary named my_dictionary.\n",
    "\n",
    "my_dictionary = {'c1': 'Red', 'c2': 'Green', 'c3': None, 'd4': 'Blue'}.\n",
    "\n",
    "Now write a Python program to remove empty items in the dictionary. Empty items means keys without any values(None).\n",
    "\n",
    "===============================================================\n",
    "\n",
    "**Output:**\\\n",
    "{'c1':'Red','c2':'Green','d4':'Blue'}."
   ]
  },
  {
   "cell_type": "code",
   "execution_count": 39,
   "metadata": {
    "executionInfo": {
     "elapsed": 1171,
     "status": "ok",
     "timestamp": 1604556761337,
     "user": {
      "displayName": "Mahrin Tasfe",
      "photoUrl": "https://lh3.googleusercontent.com/a-/AOh14GjLJ7sXkXqft7B5qITlXMOCijU0QpWeO-1YhLoj-g=s64",
      "userId": "05682083127640569309"
     },
     "user_tz": -360
    },
    "id": "cK9Nh7-F6YUE"
   },
   "outputs": [],
   "source": [
    "#todo"
   ]
  },
  {
   "cell_type": "markdown",
   "metadata": {
    "id": "_W2bOMJn62xF"
   },
   "source": [
    "### Task 19\n",
    "\n",
    "Given a range of values, extract all the items whose keys lie in range of values of a given dictionary:\n",
    "\n",
    "dictionary = {'a' : 6, 'b' : 7, 'c' : 9, 'd' : 8, 'e' : 11}\n",
    "\n",
    "===============================\n",
    "\n",
    "\n",
    "**Input 1:**\\\n",
    "9, 12\\\n",
    "**Output 1:**\\\n",
    "{'c': 9, 'e': 11}\n",
    "\n",
    "**Explanation**  Keys within 9 and 11 range extracted.\n",
    "\n",
    "=================================\n",
    "\n",
    "**Input 2:** \\\n",
    " 14, 18\n",
    "\n",
    "**Output 2 :**\\\n",
    " {}\n",
    "\n",
    "**Explanation :**  No values in range."
   ]
  },
  {
   "cell_type": "code",
   "execution_count": 40,
   "metadata": {
    "executionInfo": {
     "elapsed": 1169,
     "status": "ok",
     "timestamp": 1604556761337,
     "user": {
      "displayName": "Mahrin Tasfe",
      "photoUrl": "https://lh3.googleusercontent.com/a-/AOh14GjLJ7sXkXqft7B5qITlXMOCijU0QpWeO-1YhLoj-g=s64",
      "userId": "05682083127640569309"
     },
     "user_tz": -360
    },
    "id": "MLh9VlLD633D"
   },
   "outputs": [],
   "source": [
    "#todo"
   ]
  },
  {
   "cell_type": "markdown",
   "metadata": {
    "id": "zC94TVcD7LqM"
   },
   "source": [
    "### Task 20\n",
    "\n",
    "Given a list of tuples, the task is to group the tuples by matching the **second** element in the tuples. We can achieve this using **dictionary** by checking the second element in each tuple.\n",
    "\n",
    "===============================\n",
    "\n",
    "**Input 1:**\\\n",
    "[(20, 80), (31, 80), (1, 22), (88, 11), (27, 11)]\\\n",
    "**Output1:**\\\n",
    "{80: [(20, 80), (31, 80)],\\\n",
    "         11: [(88, 11), (27, 11)],\\\n",
    "         22: [(1, 22)]}\n",
    "\n",
    "         \n",
    "============================================\n",
    "\n",
    "**Input 2 :**\\\n",
    "[(20, 'Sad'), (31, 'Sad'), (88, 'NotSad'), (27, 'NotSad')]\\\n",
    "**Output 2:**\\\n",
    "{'NotSad': [(88, 'NotSad'), (27, 'NotSad')],\\\n",
    "         'Sad: [(20, 'Sad'), (31, 'Sad')]}"
   ]
  },
  {
   "cell_type": "code",
   "execution_count": 41,
   "metadata": {
    "executionInfo": {
     "elapsed": 1167,
     "status": "ok",
     "timestamp": 1604556761338,
     "user": {
      "displayName": "Mahrin Tasfe",
      "photoUrl": "https://lh3.googleusercontent.com/a-/AOh14GjLJ7sXkXqft7B5qITlXMOCijU0QpWeO-1YhLoj-g=s64",
      "userId": "05682083127640569309"
     },
     "user_tz": -360
    },
    "id": "zAunp7oZ7H-l"
   },
   "outputs": [],
   "source": [
    "#todo"
   ]
  }
 ],
 "metadata": {
  "colab": {
   "collapsed_sections": [],
   "name": "CSE110 Assignment04 (Tuple- Dictionary).ipynb",
   "provenance": []
  },
  "kernelspec": {
   "display_name": "Python 3",
   "language": "python",
   "name": "python3"
  },
  "language_info": {
   "codemirror_mode": {
    "name": "ipython",
    "version": 3
   },
   "file_extension": ".py",
   "mimetype": "text/x-python",
   "name": "python",
   "nbconvert_exporter": "python",
   "pygments_lexer": "ipython3",
   "version": "3.8.3"
  }
 },
 "nbformat": 4,
 "nbformat_minor": 1
}
