{
 "cells": [
  {
   "cell_type": "markdown",
   "metadata": {
    "id": "m8sEAZnyvfhU"
   },
   "source": [
    "# Task 1"
   ]
  },
  {
   "cell_type": "code",
   "execution_count": 3,
   "metadata": {
    "id": "Rbo26B5Bvfhc"
   },
   "outputs": [
    {
     "name": "stdout",
     "output_type": "stream",
     "text": [
      "Enter start date:3/8/2020\n",
      "Enter end date:12/12/2020\n",
      "90\n"
     ]
    }
   ],
   "source": [
    "#Write your code of task 01 here\n",
    "#start = input(\"Enter start date:\")\n",
    "#end = input(\"Enter end date:\")\n",
    "def Days(start,end):\n",
    "    start = start.split('/')\n",
    "    end = end.split('/')\n",
    "    return int(end[0])+int(end[1])*20+int(end[2])*240 - int(start[0])-int(start[1])*20-int(start[2])*240+1\n",
    "\n",
    "start = input(\"Enter start date:\")\n",
    "end = input(\"Enter end date:\")\n",
    "\n",
    "print(Days(start,end))\n",
    "\n"
   ]
  },
  {
   "cell_type": "markdown",
   "metadata": {
    "id": "xm__iPVgvfhe"
   },
   "source": [
    "# Task 2"
   ]
  },
  {
   "cell_type": "code",
   "execution_count": 7,
   "metadata": {
    "id": "A7IaXd_Uvfhe"
   },
   "outputs": [
    {
     "name": "stdout",
     "output_type": "stream",
     "text": [
      "Enter the num of IDs:3\n",
      "20201999\n",
      "18204354\n",
      "18101202\n",
      "{'Spring': ['18101202'], 'Fall': ['20201999', '18204354'], 'Summer': []}\n"
     ]
    }
   ],
   "source": [
    "#Write your code of task 02 here\n",
    "\n",
    "n=int(input(\"Enter the num of IDs:\"))\n",
    "dict1={'Spring': [],   'Fall': [],   'Summer': [], }\n",
    "sem=[\"\", 'Spring', 'Fall', 'Summer']\n",
    "\n",
    "for i in range(n):\n",
    "    id=input()\n",
    "    sem1=sem[int(id[2])]\n",
    "    dict1[sem1].append(id)\n",
    "\n",
    "print(dict1)\n"
   ]
  },
  {
   "cell_type": "markdown",
   "metadata": {
    "id": "vFdPiJGhvoRH"
   },
   "source": [
    "# Task 03"
   ]
  },
  {
   "cell_type": "code",
   "execution_count": 6,
   "metadata": {
    "id": "9B4Oa0eSvfhf"
   },
   "outputs": [
    {
     "name": "stdout",
     "output_type": "stream",
     "text": [
      "Our next CSE course is CSE111, We love OOP\n",
      "{1: (9, 12), 2: (5, 4)}\n"
     ]
    }
   ],
   "source": [
    "#Write your code of Task 03 here\n",
    "sen=input()\n",
    "sen=sen.split(',')\n",
    "dic={}\n",
    "for i,s in enumerate(sen):\n",
    "    if i not in dic:\n",
    "        dic[i+1]=(0,0)\n",
    "    c =0\n",
    "    v =0\n",
    "    for ch in s:\n",
    "        if ch in ['a','e','i','o','u','A','E','I','O','U'] :\n",
    "            v+=1;\n",
    "        elif ch in [\"b\",\"c\",\"d\",\"e\",\"f\",\"g\",\"h\",\"j\",\"k\",\"l\",\"m\",\"n\",\"p\",\"q\",\"r\",\"s\",\"t\",\"v\",\"w\",\"x\",\"y\",\"z\",\"B\",\"C\",\"D\",\"F\",\"G\",\"H\",\"J\",\"K\",\"L\",\"M\",\"N\",\"P\",\"Q\",\"R\",\"S\",\"T\",\"V\",\"W\",\"X\",\"Y\",\"Z\"] :\n",
    "            c+=1;\n",
    "    dic[i+1] = (v,c)\n",
    "print(dic)"
   ]
  },
  {
   "cell_type": "markdown",
   "metadata": {
    "id": "172uYouqvfhe"
   },
   "source": [
    "Before submitting, save the file name in the following format:\n",
    "\n",
    "\n",
    "  ID_FullName_SectionNo_CSE110_final.ipynb)   \n",
    "  \n",
    "  example: 20201999_Navid_Ahmed_07_CSE110_final.ipynb"
   ]
  }
 ],
 "metadata": {
  "colab": {
   "collapsed_sections": [],
   "name": "CSE110_final_fall2020.ipynb",
   "provenance": []
  },
  "kernelspec": {
   "display_name": "Python 3",
   "language": "python",
   "name": "python3"
  },
  "language_info": {
   "codemirror_mode": {
    "name": "ipython",
    "version": 3
   },
   "file_extension": ".py",
   "mimetype": "text/x-python",
   "name": "python",
   "nbconvert_exporter": "python",
   "pygments_lexer": "ipython3",
   "version": "3.8.3"
  }
 },
 "nbformat": 4,
 "nbformat_minor": 1
}
