{
 "cells": [
  {
   "cell_type": "markdown",
   "metadata": {
    "id": "oMYzsTcnHEll"
   },
   "source": [
    "# CSE110 Assignment 6\n",
    "\n",
    "\n",
    "## Write the Python code of the following problems:\n",
    "**<font color='red'>[MUST MAINTAIN VARIABLE NAMING CONVENTIONS FOR ALL THE TASKS]</font>**"
   ]
  },
  {
   "cell_type": "markdown",
   "metadata": {
    "id": "jT-t2zlnHEll"
   },
   "source": [
    "### Task 1\n",
    "\n",
    "Given a list named my_list. <br/>\n",
    "my_list=[10,1,20,3,6,2,5,11,15,2,12,14,17,18,29] <br/>\n",
    "Now use bubble sort to sort my_list into ascending order.\n",
    "\n",
    "**Output**<br/>\n",
    "[1, 2, 2, 3, 5, 6, 10, 11, 12, 14, 15, 17, 18, 20, 29]"
   ]
  },
  {
   "cell_type": "code",
   "execution_count": 48,
   "metadata": {
    "colab": {
     "base_uri": "https://localhost:8080/"
    },
    "executionInfo": {
     "elapsed": 1386,
     "status": "ok",
     "timestamp": 1606800362656,
     "user": {
      "displayName": "Nadia Rubaiyat",
      "photoUrl": "",
      "userId": "06231355892473397655"
     },
     "user_tz": -360
    },
    "id": "7qXVakLgHElm",
    "outputId": "ebc2fc44-7c47-4f64-f25d-0a6f9be80e21"
   },
   "outputs": [
    {
     "name": "stdout",
     "output_type": "stream",
     "text": [
      "[1, 2, 2, 3, 5, 6, 10, 11, 12, 14, 15, 17, 18, 20, 29]\n"
     ]
    }
   ],
   "source": [
    "#todo - Bubble sort starts arranging the elements from the top\n",
    "def sort(my_list):\n",
    "        for i in range (len(my_list)-1,0,-1):\n",
    "            for j in range(i):\n",
    "                if my_list[j]>my_list[j+1]:\n",
    "                    temp=my_list[j]\n",
    "                    my_list[j]=my_list[j+1]\n",
    "                    my_list[j+1]=temp\n",
    "my_list = [10,1,20,3,6,2,5,11,15,2,12,14,17,18,29]\n",
    "sort(my_list)\n",
    "print(my_list)"
   ]
  },
  {
   "cell_type": "markdown",
   "metadata": {
    "id": "w1QgeWd2HElp"
   },
   "source": [
    "### Task 2\n",
    "\n",
    "Given a list named my_list. <br/>\n",
    "my_list=[10,1,20,3,6,2,5,11,15,2,12,14,17,18,29] <br/>\n",
    "Now use selection sort to sort my_list into ascending order.\n",
    "\n",
    "**Output**<br/>\n",
    "[1, 2, 2, 3, 5, 6, 10, 11, 12, 14, 15, 17, 18, 20, 29]\n",
    "\n"
   ]
  },
  {
   "cell_type": "code",
   "execution_count": 49,
   "metadata": {
    "colab": {
     "base_uri": "https://localhost:8080/"
    },
    "executionInfo": {
     "elapsed": 1211,
     "status": "ok",
     "timestamp": 1606801619603,
     "user": {
      "displayName": "Nadia Rubaiyat",
      "photoUrl": "",
      "userId": "06231355892473397655"
     },
     "user_tz": -360
    },
    "id": "am0B_8ICHElq",
    "outputId": "35e203a2-a8fd-43a3-cc45-b26e829f4294"
   },
   "outputs": [
    {
     "name": "stdout",
     "output_type": "stream",
     "text": [
      "[1, 2, 2, 3, 5, 6, 10, 11, 12, 14, 15, 17, 18, 20, 29]\n"
     ]
    }
   ],
   "source": [
    "#todo Selection sort starts arranging the elements from the bottom\n",
    "def sort(my_list):\n",
    "    for i in range (0,len(my_list)-1,):\n",
    "        minp=i\n",
    "        for j in range(i,len(my_list)):\n",
    "            if my_list[j]<my_list[minp]:\n",
    "                minp=j\n",
    "        temp=my_list[i]\n",
    "        my_list[i]=my_list[minp]\n",
    "        my_list[minp]=temp\n",
    "my_list=[10,1,20,3,6,2,5,11,15,2,12,14,17,18,29]\n",
    "sort(my_list)\n",
    "print(my_list)"
   ]
  },
  {
   "cell_type": "markdown",
   "metadata": {
    "id": "j4ffr2CAHElt"
   },
   "source": [
    "### Task  3\n",
    "\n",
    "Given a list named my_list. <br/>\n",
    "my_list=[10,1,20,3,6,2,5,11,15,2,12,14,17,18,29] <br/>\n",
    "Now use any of the two sorts used above to sort the list in descending order.\n",
    "\n",
    "**Output**<br/>\n",
    "[29, 20, 18, 17, 15, 14, 12, 11, 10, 6, 5, 3, 2, 2, 1]\n"
   ]
  },
  {
   "cell_type": "code",
   "execution_count": 51,
   "metadata": {
    "id": "n2X3YR-_HElt"
   },
   "outputs": [
    {
     "name": "stdout",
     "output_type": "stream",
     "text": [
      "[29, 20, 18, 17, 15, 14, 12, 11, 10, 6, 5, 3, 2, 2, 1]\n"
     ]
    }
   ],
   "source": [
    "#todo\n",
    "def sort(my_list):\n",
    "        for i in range (len(my_list)-1,0,-1):\n",
    "            for j in range(i):\n",
    "                if my_list[j]<my_list[j+1]:\n",
    "                    temp=my_list[j]\n",
    "                    my_list[j]=my_list[j+1]\n",
    "                    #print(my_list)                  \n",
    "                    my_list[j+1]=temp\n",
    "my_list=[10,1,20,3,6,2,5,11,15,2,12,14,17,18,29] \n",
    "sort(my_list)\n",
    "print(my_list)"
   ]
  },
  {
   "cell_type": "markdown",
   "metadata": {
    "id": "9iYiiTWWHElw"
   },
   "source": [
    "### Task 4\n",
    "\n",
    "Suppose you have a sitting arrangement of the students of the final exam in a list. The list contains the last two digits of their roll number.<br/>\n",
    "\n",
    "sitting_list=[10,30,20,70,11,15,22,16,58,100,12,56,70,80] <br/>\n",
    "\n",
    "Now you want to organize the sitting arrangement. You decided to sort all the students in the even indices into ascending order and all the students in the odd indices  into descending order.  <br/>\n",
    "\n",
    "So write a python program that organizes the list for you the way you decided.<br/>\n",
    "\n",
    "\n",
    "**Sample Output**<br/>\n",
    "[10, 100, 11, 80, 12, 70, 20, 56, 22, 30, 58, 16, 70, 15]"
   ]
  },
  {
   "cell_type": "code",
   "execution_count": 52,
   "metadata": {
    "id": "nPdUAKDJHElw"
   },
   "outputs": [
    {
     "name": "stdout",
     "output_type": "stream",
     "text": [
      "[10, 100, 11, 80, 12, 70, 20, 56, 22, 30, 58, 16, 70, 15]\n"
     ]
    }
   ],
   "source": [
    "sitting_list =[10,30,20,70,11,15,22,16,58,100,12,56,70,80] \n",
    "evnlst=[]\n",
    "oddlst=[]\n",
    "for i in range (len(sitting_list)):\n",
    "    if (i%2) !=0:\n",
    "        oddlst.append(sitting_list[i])\n",
    "    elif (i%2)==0:\n",
    "        evnlst.append(sitting_list[i])\n",
    "evnlst.sort()\n",
    "#print(evnlst)\n",
    "oddlst.sort(reverse=True)\n",
    "#print(oddlst)\n",
    "\n",
    "lastlst=[]\n",
    "for i in range(len(evnlst)):\n",
    "    lastlst.append(evnlst[i])\n",
    "    lastlst.append(oddlst[i])\n",
    "print(lastlst)\n"
   ]
  },
  {
   "cell_type": "markdown",
   "metadata": {
    "id": "oVR1Tsa0HElz"
   },
   "source": [
    "### Task 5\n",
    "\n",
    "Suppose a list contains the final exam results of CSE110, PHY111, and MAT110 of each student in a listed form. Your task is to sort the list based on a course name that will be given by the user and print the names after sorting. <br/>\n",
    "\n",
    "For example, a list looks like <br/>\n",
    "lst = [ [‘Farzad’,95,87,91] , [‘Mahjabin’,92,90,83], [‘Sadman’,87,92,80], [‘Nakhla’,85,94,90] ] <br/>\n",
    "where for each list, 1st index is name, 2nd index is CSE110, 3rd index is PHY111 and 4th index is MAT110. \n",
    "\n",
    "=====================================================\n",
    "\n",
    "**Hint:**<br/>\n",
    "create a function for sorting, then call it everytime instead of rewriting the code.\n",
    "\n",
    "Get the data in the individual lists from the givennested list.\n",
    "\n",
    "=====================================================\n",
    "\n",
    "**Sample Input**<br/>\n",
    "MAT110\n",
    "\n",
    "**Sample Output**<br/>\n",
    "Farzad <br/>\n",
    "Nakhla <br/>\n",
    "Mahjabin <br/>\n",
    "Sadman\n",
    "\n",
    "\n"
   ]
  },
  {
   "cell_type": "code",
   "execution_count": 53,
   "metadata": {
    "id": "539b2P1NHElz"
   },
   "outputs": [
    {
     "name": "stdout",
     "output_type": "stream",
     "text": [
      "mat110\n",
      "Farzad\n",
      "Nakhla\n",
      "Mahjabin\n",
      "Sadman\n"
     ]
    }
   ],
   "source": [
    "lst = [[\"Farzad\",95,87,91] , [\"Mahjabin\",92,90,83], [\"Sadman\",87,92,80], [\"Nakhla\",85,94,90]]\n",
    "coursename=input()\n",
    "coursename1=coursename.upper()\n",
    "if coursename1==\"CSE110\":\n",
    "    n=1\n",
    "elif coursename1==\"PHY111\":\n",
    "    n=2\n",
    "elif coursename1==\"MAT110\":\n",
    "    n=3\n",
    "    for i in range(len(lst)-1):\n",
    "        for j in range (len(lst)-1-i):\n",
    "            if lst[j][n]<lst[j+1][n]:\n",
    "                temp=lst[j]\n",
    "                lst[j]=lst[j+1]\n",
    "                lst[j+1]=temp\n",
    "for i in range(len(lst)):\n",
    "    print(lst[i][0])"
   ]
  },
  {
   "cell_type": "markdown",
   "metadata": {
    "id": "B0Rqbyi4HEl2"
   },
   "source": [
    "### Task 6\n",
    "\n",
    "Suppose you have a list named my_list. Your task is to sort the list and print the count of numbers that have changed their position. <br/>\n",
    "my_list = [4,2,3,1,6,5] <br/>\n",
    "Sorted list would be [1,2,3,4,5,6] where 4 numbers have changed their position.\n",
    "\n",
    "\n",
    "**Sample Output**<br/>\n",
    "4"
   ]
  },
  {
   "cell_type": "code",
   "execution_count": 54,
   "metadata": {
    "id": "AMc8jAa7HEl2"
   },
   "outputs": [
    {
     "name": "stdout",
     "output_type": "stream",
     "text": [
      "Sorted list: [1, 2, 3, 4, 5, 6]\n",
      "4 Numbers have changed position\n"
     ]
    }
   ],
   "source": [
    "def cngpos(my_list, n) : \n",
    "  \n",
    "    \n",
    "    my_list2 = my_list.copy() \n",
    "    for i in range(n):  \n",
    "        my_list2[i] = my_list[i]  \n",
    "  \n",
    "    count = 0\n",
    "    for i in range (len(my_list)-1,0,-1):\n",
    "            for j in range(i):\n",
    "                if my_list[j]>my_list[j+1]:\n",
    "                    temp=my_list[j]\n",
    "                    my_list[j]=my_list[j+1]\n",
    "                    my_list[j+1]=temp\n",
    "    print(\"Sorted list:\",my_list) \n",
    "\n",
    "    for i in range(n):   \n",
    "        if (my_list[i] != my_list2[i]) :  \n",
    "            count += 1\n",
    "              \n",
    "    return count \n",
    "      \n",
    "my_list = [4,2,3,1,6,5]  \n",
    "n = len(my_list)  \n",
    "print(cngpos(my_list, n),\"Numbers have changed position\")  "
   ]
  },
  {
   "cell_type": "markdown",
   "metadata": {
    "id": "iIH5n0sJHEl5"
   },
   "source": [
    "### Task 7\n",
    "\n",
    "Write a python program that takes two lists from the user, merges the two lists, sorts the list, and find the median of the elements of the two lists.\n",
    "\n",
    "=====================================================\n",
    "\n",
    "\n",
    "**Sample Input 1**<br/>\n",
    "list_one= [1,2,1,4] <br/>\n",
    "list_two= [5,4,1]\n",
    "\n",
    "\n",
    "**Sample Output 1**<br/>\n",
    "Sorted list= [1, 1, 1, 2, 4, 4, 5] <br/>\n",
    "Median = 2\n",
    "\n",
    "=====================================================\n",
    "\n",
    "\n",
    "**Sample Input 2**<br/>\n",
    "list_one= [1,7,9,10] <br/>\n",
    "list_two= [2,7,6,5]\n",
    "\n",
    "\n",
    "**Sample Output 2**<br/>\n",
    "Sorted list=[1, 2, 5, 6, 7, 7, 9, 10] <br/>\n",
    "Median=6.5\n",
    "\n"
   ]
  },
  {
   "cell_type": "code",
   "execution_count": 55,
   "metadata": {
    "id": "KsFxC7XbHEl6"
   },
   "outputs": [
    {
     "name": "stdout",
     "output_type": "stream",
     "text": [
      "Sorted list: [1, 2, 5, 6, 7, 7, 9, 10]\n",
      "Median= 6.5\n"
     ]
    }
   ],
   "source": [
    "#todo\n",
    "list1=[1,7,9,10]\n",
    "list2=[2,7,6,5]\n",
    "combinedlist=list1+list2\n",
    "def sort(lists):\n",
    "        for i in range (len(lists)-1,0,-1):\n",
    "            for j in range(i):\n",
    "                if lists[j]>lists[j+1]:\n",
    "                    temp=lists[j]\n",
    "                    lists[j]=lists[j+1]\n",
    "                    lists[j+1]=temp\n",
    "lists=combinedlist\n",
    "sort(lists)\n",
    "print(\"Sorted list:\",lists)\n",
    "for n in lists:\n",
    "    if (len(lists))%2==0:\n",
    "        median=(lists[(len(lists))//2]+lists[((len(lists))//2)-1])/2\n",
    "    elif (len(lists))%2 !=0:\n",
    "        median= (lists[((len(lists))//2)])\n",
    "print(\"Median=\",median)\n"
   ]
  },
  {
   "cell_type": "markdown",
   "metadata": {
    "id": "-XKiwBR1HEl8"
   },
   "source": [
    "### Task 8\n",
    "\n",
    "\n",
    "Write a python program that takes a list from user containing both positive and negative numbers. The program then finds two pairs of values whose summation is closest to zero.\n",
    "\n",
    "=====================================================\n",
    "\n",
    "**Sample Input 1**<br/>\n",
    "list_one=[-10,15,2,4,-4,7,-8] \n",
    "\n",
    "\n",
    "**Sample Output 1**<br/>\n",
    "Two pairs which have the smallest sum = 4 and -4\n",
    "\n",
    "=====================================================\n",
    "\n",
    "\n",
    "**Sample Input 2**<br/>\n",
    "list_one=[1,-8,4,-7,-20,26,70,-85]\n",
    "\n",
    "\n",
    "**Sample Output 2**<br/>\n",
    "Two pairs which have the smallest sum = 4 and -7"
   ]
  },
  {
   "cell_type": "code",
   "execution_count": 56,
   "metadata": {
    "id": "5ORSGa5GHEl9"
   },
   "outputs": [
    {
     "name": "stdout",
     "output_type": "stream",
     "text": [
      "[-4, 4]\n"
     ]
    }
   ],
   "source": [
    "#todo\n",
    "list_one=[-10,15,2,4,-4,7,-8] \n",
    "dict1={} \n",
    "for i in list_one:\n",
    "    for j in list_one:\n",
    "        if i!=j:\n",
    "            dict1[i+j]=[i,j]\n",
    "\n",
    "minm = abs(list(dict1.keys())[0])\n",
    "key = list(dict1.keys())[0]\n",
    "for k in dict1.keys():\n",
    "    if abs(k)<minm:\n",
    "        minm=abs(k)\n",
    "        key=k\n",
    "print(dict1[key])"
   ]
  },
  {
   "cell_type": "code",
   "execution_count": null,
   "metadata": {},
   "outputs": [],
   "source": []
  }
 ],
 "metadata": {
  "colab": {
   "collapsed_sections": [],
   "name": "CSE110 Assignment06 (Sorting).ipynb",
   "provenance": []
  },
  "kernelspec": {
   "display_name": "Python 3",
   "language": "python",
   "name": "python3"
  },
  "language_info": {
   "codemirror_mode": {
    "name": "ipython",
    "version": 3
   },
   "file_extension": ".py",
   "mimetype": "text/x-python",
   "name": "python",
   "nbconvert_exporter": "python",
   "pygments_lexer": "ipython3",
   "version": "3.8.3"
  }
 },
 "nbformat": 4,
 "nbformat_minor": 1
}
