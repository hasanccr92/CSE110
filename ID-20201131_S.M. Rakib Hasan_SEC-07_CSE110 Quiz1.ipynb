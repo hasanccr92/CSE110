{
 "cells": [
  {
   "cell_type": "markdown",
   "metadata": {},
   "source": [
    "# Task 1"
   ]
  },
  {
   "cell_type": "code",
   "execution_count": 6,
   "metadata": {},
   "outputs": [
    {
     "name": "stdout",
     "output_type": "stream",
     "text": [
      "Enter lenthg of a side:4\n",
      "Enter length of another side:5\n",
      "Area is: 20\n"
     ]
    }
   ],
   "source": [
    "#Write your code of task 1 here\n",
    "side1=int(input(\"Enter lenthg of a side:\"))\n",
    "side2=int(input(\"Enter length of another side:\"))\n",
    "def area_calculator(side1,side2):\n",
    "        if side1 != side2:\n",
    "            arearec=(side1*side2)\n",
    "            print(\"Area is:\",arearec)\n",
    "        else:\n",
    "            areasq= (side1**2)\n",
    "            print(\"Area is\",areasq)\n",
    "    \n",
    "area_calculator(side1,side2)\n",
    "    \n",
    "\n"
   ]
  },
  {
   "cell_type": "markdown",
   "metadata": {},
   "source": [
    "# Task 2"
   ]
  },
  {
   "cell_type": "code",
   "execution_count": 7,
   "metadata": {},
   "outputs": [
    {
     "name": "stdout",
     "output_type": "stream",
     "text": [
      "Enter the string:Today is my CSE110 quiz. I am worried. But there is no success without the stress.\n",
      "{'C': 3, 'S': 9, 'E': 7}\n"
     ]
    }
   ],
   "source": [
    "#Write your code of taske 2 here\n",
    "str1=input(\"Enter the string:\")\n",
    "user_input=str1.lower()\n",
    "count_C=user_input.count(\"c\")\n",
    "count_S=user_input.count(\"s\")\n",
    "count_E=user_input.count(\"e\")\n",
    "dict1={\"C\":count_C,\"S\":count_S,\"E\":count_E}\n",
    "print(dict1)\n",
    "\n",
    "\n",
    "\n"
   ]
  },
  {
   "cell_type": "markdown",
   "metadata": {},
   "source": [
    "Before submitting, save the file name in the following format:\n",
    "\n",
    "\n",
    "    ID_NAME_SECTION_CSE110_QUIZ\n",
    "    \n",
    "    example: 20201999_Shawon_Mostafiz_CSE110_Quiz"
   ]
  },
  {
   "cell_type": "code",
   "execution_count": null,
   "metadata": {},
   "outputs": [],
   "source": []
  }
 ],
 "metadata": {
  "kernelspec": {
   "display_name": "Python 3",
   "language": "python",
   "name": "python3"
  },
  "language_info": {
   "codemirror_mode": {
    "name": "ipython",
    "version": 3
   },
   "file_extension": ".py",
   "mimetype": "text/x-python",
   "name": "python",
   "nbconvert_exporter": "python",
   "pygments_lexer": "ipython3",
   "version": "3.8.3"
  }
 },
 "nbformat": 4,
 "nbformat_minor": 4
}
